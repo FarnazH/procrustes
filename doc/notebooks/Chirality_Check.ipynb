{
 "cells": [
  {
   "cell_type": "markdown",
   "metadata": {},
   "source": [
    "# Chirality Check"
   ]
  },
  {
   "cell_type": "markdown",
   "metadata": {},
   "source": [
    "Chirality is a symmetry property with great significance in chemistry, biology\n",
    "and pharmaceutical science. Here we show how to determine if two compounds\n",
    "are enantiomers by using rotational Procrustes. Suppose we have two compounds\n",
    "with the same formula: CHFClBr and there is one chiral carbon atom in each of\n",
    "them. The absolute configuration of the compounds are shown in the figure below. To determine whether the two compounds are chiral enantiomers, we compare the rms\n",
    "distance between structure when only rotational transformations are allowed and\n",
    "when both rotational transformations and reflection are allowed. If the reflections\n",
    "are essential to achieve close alignment between the structures, then we conclude\n",
    "that there is a chiral carbon in each molecule"
   ]
  },
  {
   "cell_type": "markdown",
   "metadata": {},
   "source": [
    "![Fig. 1 Enantiomers prediction of CHFClBr with rotational-orthogonal Procrustes by comparing the atoms coordinates.](../examples/chirality_check/compounds.jpg \"Fig. 1 Enantiomers prediction of CHFClBr with rotational-orthogonal Procrustes by comparing the atoms coordinates.\")"
   ]
  },
  {
   "cell_type": "markdown",
   "metadata": {},
   "source": [
    "The above figure shows enantiomers prediction of CHFClBr with rotational-orthogonal Procrustes by comparing the atoms coordinates. The molecule is shown in ball-stick representation with atoms labeled. The absolute configurations of the chiral atom are labelled in blue text."
   ]
  },
  {
   "cell_type": "code",
   "execution_count": 6,
   "metadata": {},
   "outputs": [],
   "source": [
    "# only run this cell if you need to install the dependices\n",
    "!pip install git+https://github.com/theochem/procrustes.git@master"
   ]
  },
  {
   "cell_type": "markdown",
   "metadata": {},
   "source": [
    "The 3D atomic coordinates have been extracted into `R.dat` and `S.dat`."
   ]
  },
  {
   "cell_type": "code",
   "execution_count": 1,
   "metadata": {},
   "outputs": [],
   "source": [
    "# load the libraries\n",
    "import numpy as np\n",
    "import matplotlib.pyplot as plt\n",
    "\n",
    "from procrustes import rotational"
   ]
  },
  {
   "cell_type": "code",
   "execution_count": 2,
   "metadata": {},
   "outputs": [],
   "source": [
    "# load the atomic coordinates\n",
    "A = np.loadtxt(\"../examples/chirality_check/R.dat\")\n",
    "B = np.loadtxt(\"../examples/chirality_check/S.dat\")"
   ]
  },
  {
   "cell_type": "markdown",
   "metadata": {},
   "source": [
    "Now the molecule A is reflected with the reflection matrix. "
   ]
  },
  {
   "cell_type": "code",
   "execution_count": 3,
   "metadata": {},
   "outputs": [],
   "source": [
    "reflection = np.array([[-1, 0, 0], [0, 1, 0], [0, 0, 1]])\n",
    "# create the reflection of compound A over the yz plane\n",
    "A_ref = np.dot(A, reflection)"
   ]
  },
  {
   "cell_type": "markdown",
   "metadata": {},
   "source": [
    "Now we compare the rms distance between structure when only rotational transformations are allowed and when both rotational transformations and reflection are allowed. "
   ]
  },
  {
   "cell_type": "code",
   "execution_count": 4,
   "metadata": {},
   "outputs": [
    {
     "name": "stdout",
     "output_type": "stream",
     "text": [
      "These two compounds are enantiomers and there is at least one chiral center in each of them.\n"
     ]
    }
   ],
   "source": [
    "res = rotational(A, B,\n",
    "                 translate=True,\n",
    "                 scale=False,\n",
    "                 remove_zero_col=False,\n",
    "                 remove_zero_row=False)\n",
    "# Compute the error: reflection + rotation\n",
    "res_ref = rotational(A_ref, B,\n",
    "                     translate=True,\n",
    "                     scale=False,\n",
    "                     remove_zero_col=False,\n",
    "                     remove_zero_row=False)\n",
    "\n",
    "if res[\"error\"]/res_ref[\"error\"] > 10:\n",
    "    print(\"These two compounds are enantiomers \" \n",
    "          \"and there is at least one chiral center in each of them.\")\n",
    "else:\n",
    "    print(\"These two compounds are not enantiomers \"\n",
    "          \"and there is no chiral center in any of them.\")"
   ]
  },
  {
   "cell_type": "markdown",
   "metadata": {},
   "source": [
    "We can also wrap up everything we just done into a function."
   ]
  },
  {
   "cell_type": "code",
   "execution_count": null,
   "metadata": {},
   "outputs": [],
   "source": [
    "def chiral_check(A_coords, B_coords):\n",
    "    r\"\"\"Check if a organic compound is chiral.\n",
    "\n",
    "    Parameters\n",
    "    ----------\n",
    "    A_coords : string\n",
    "        Atomic coordinates of the first organic compound A.\n",
    "    B_coords : string\n",
    "        Atomic coordinates of the first organic compound B.\n",
    "    Returns\n",
    "    -------\n",
    "    A : ndarray\n",
    "        3D coordinates of the first organic compound A.\n",
    "    B : ndarray\n",
    "        3D coordinates of the first organic compound B.\n",
    "    \"\"\"\n",
    "\n",
    "    reflection = np.array([[-1, 0, 0], [0, 1, 0], [0, 0, 1]])\n",
    "    # create the reflection of compound A over the yz plane\n",
    "    A_ref = np.dot(A_coords, reflection)\n",
    "    # Compute the rotational procrustes\n",
    "    res = rotational(A_coords, B_coords,\n",
    "                    translate=True,\n",
    "                    scale=False,\n",
    "                    remove_zero_col=False,\n",
    "                    remove_zero_row=False)\n",
    "    # Compute the error: reflection + rotation\n",
    "    res_ref = rotational(A_ref, B_coords,\n",
    "                        translate=True,\n",
    "                        scale=False,\n",
    "                        remove_zero_col=False,\n",
    "                        remove_zero_row=False)\n",
    "\n",
    "    if res[\"error\"] / res_ref[\"error\"] > 10:\n",
    "        print(\"These two compounds are enantiomers \"\n",
    "              \"and there is at least one chiral center in each of them.\")\n",
    "    else:\n",
    "        print(\"These two compounds are not enantiomers \"\n",
    "              \"and there is no chiral center in any of them.\")"
   ]
  },
  {
   "cell_type": "markdown",
   "metadata": {},
   "source": [
    "Some people might wonder how we can extract the coordinates from sdf files. Here are tthree options, one is to use `RDKit`, one is to use `iodata`, and the other is just by text processing."
   ]
  },
  {
   "cell_type": "code",
   "execution_count": null,
   "metadata": {},
   "outputs": [],
   "source": [
    "# only run this cell if you need to install the dependices\n",
    "!conda install -c conda-forge rdkit"
   ]
  },
  {
   "cell_type": "code",
   "execution_count": null,
   "metadata": {},
   "outputs": [],
   "source": [
    "# use rdkit to extract coordinates\n",
    "from rdkit import Chem\n",
    "\n",
    "def atom_coordinates_rdkit(sdf_name):\n",
    "    r\"\"\"Load atomic coordinates from a sdf file with RDKit.\n",
    "    \n",
    "    Parameters\n",
    "    ----------\n",
    "    sdf_name : string\n",
    "        SDF file name.\n",
    "    \n",
    "    Returns\n",
    "    -------\n",
    "    coords : ndarray\n",
    "        3D atomic coordinates.\n",
    "    \"\"\"\n",
    "    mol = Chem.SDMolSupplier(sdf_name)[0]\n",
    "    conf = mol.GetConformer()\n",
    "    return conf.GetPositions()"
   ]
  },
  {
   "cell_type": "code",
   "execution_count": null,
   "metadata": {},
   "outputs": [],
   "source": [
    "# only run this cell if you need to install the dependices\n",
    "!pip install git+https://github.com/theochem/iodata.git@master"
   ]
  },
  {
   "cell_type": "code",
   "execution_count": null,
   "metadata": {},
   "outputs": [],
   "source": [
    "# use iodata to extract coordinates\n",
    "# https://github.com/theochem/iodata\n",
    "from iodata import load_one\n",
    "\n",
    "def atom_coordinates_iodata(sdf_name):\n",
    "    r\"\"\"Load atomic coordinates from a sdf file with iodata.\n",
    "    \n",
    "    Parameters\n",
    "    ----------\n",
    "    sdf_name : string\n",
    "        SDF file name.\n",
    "    \n",
    "    Returns\n",
    "    -------\n",
    "    coords : ndarray\n",
    "        3D atomic coordinates.\n",
    "    \"\"\"\n",
    "    mol = load_one(sdf_name)\n",
    "    coords = mol.atcoords\n",
    "    return coords\n",
    "    "
   ]
  },
  {
   "cell_type": "code",
   "execution_count": null,
   "metadata": {},
   "outputs": [],
   "source": [
    "# use file processing to extract coordinates\n",
    "\n",
    "def extract_coordinates(sdf_name):\n",
    "    r\"\"\"Extract atomic coordinates from a sdf file.\n",
    "    \n",
    "    Parameters\n",
    "    ----------\n",
    "    sdf_name : string\n",
    "        SDF file name.\n",
    "    \n",
    "    Returns\n",
    "    -------\n",
    "    coords : ndarray\n",
    "        3D atomic coordinates.\n",
    "    \"\"\"\n",
    "    coordinates = []\n",
    "    with open(sdf_name, \"r\") as f:\n",
    "        for line in f:\n",
    "            line = line.strip()\n",
    "            if line.endswith(\"V2000\") or line.endswith(\"V3000\"):\n",
    "                break\n",
    "        for line in f:\n",
    "            line_seg = line.strip().split()\n",
    "            if len(line_seg) == 10:\n",
    "                coordinates.append(line_seg[:3])\n",
    "            else:\n",
    "                break\n",
    "    coordinates = np.array(coordinates).astype(np.float)\n",
    "    return coordinates"
   ]
  }
 ],
 "metadata": {
  "kernelspec": {
   "display_name": "Python 3",
   "language": "python",
   "name": "python3"
  },
  "language_info": {
   "codemirror_mode": {
    "name": "ipython",
    "version": 3
   },
   "file_extension": ".py",
   "mimetype": "text/x-python",
   "name": "python",
   "nbconvert_exporter": "python",
   "pygments_lexer": "ipython3",
   "version": "3.8.3"
  }
 },
 "nbformat": 4,
 "nbformat_minor": 4
}
