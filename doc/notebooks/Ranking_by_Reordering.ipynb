{
 "cells": [
  {
   "cell_type": "markdown",
   "metadata": {},
   "source": [
    "# Ranking by Reordering Method"
   ]
  },
  {
   "cell_type": "markdown",
   "metadata": {},
   "source": [
    "In American collegiate football, it is traditional for each team to play one game\n",
    "against every other team in their division. We can use two-sided permutation\n",
    "Procrustes to use the results to rank the teams.\n",
    "The data taken from *A. N. Langville, C. D. Meyer, Ranking by Reordering Methods, Princeton\n",
    "University Press, 2012, Ch. 8, pp. 97–112.* shows the pair-wise relationship for 5 football teams\n",
    "in the Coastal Division of the Atlantic Coast Conference. In Table 1, each team\n",
    "is given zero points for a game they lost (Duke lost to every other team in its\n",
    "division) and the point differential is used for games the team won. (E.g., Miami\n",
    "beat Duke by 45 points and UNC by 18 points.) "
   ]
  },
  {
   "cell_type": "markdown",
   "metadata": {},
   "source": [
    "\n",
    "|Table 1. Team by team game score differential|\n",
    "|---------------------------------------|\n",
    "\n",
    "| Team  | Duke | Miami | UNC | UVA | VT |\n",
    "|-------|------|-------|-----|-----|----|\n",
    "| Duke  | 0    | 0     | 0   | 0   | 0  |\n",
    "| Miami | 45   | 0     | 18  | 8   | 20 |\n",
    "| UNC   | 3    | 0     | 0   | 2   | 0  |\n",
    "| UVA   | 31   | 0     | 0   | 0   | 0  |\n",
    "| VT    | 45   | 0     | 27  | 38  | 0  |"
   ]
  },
  {
   "cell_type": "markdown",
   "metadata": {},
   "source": [
    "That is, we can structure the results of the games between the teams using the score-differential matrix,"
   ]
  },
  {
   "cell_type": "markdown",
   "metadata": {},
   "source": [
    "\\begin{equation}\n",
    "    \\mathbf{D} =\n",
    "    \\begin{bmatrix}\n",
    "        0    &   0    &   0   &    0    &    0 \\\\\n",
    "       45    &   0    &  18   &    8    &   20 \\\\\n",
    "        3    &   0    &   0   &    2    &    0 \\\\\n",
    "       31    &   0    &   0   &    0    &    0 \\\\\n",
    "       45    &   0    &   27  &   38    &    0 \\\\\n",
    "    \\end{bmatrix}\n",
    "\\end{equation}"
   ]
  },
  {
   "cell_type": "markdown",
   "metadata": {},
   "source": [
    "To rank the teams in the division, we use a ranking vector, which is a permutation of the integers from 1 to n that ranks all the teams. For example, if we list\n",
    "our teams in the order they appear in Table 1, the vector $[1,3,4,5,2 ] ^{\\mathbf{T}}$ assigns Duke with rank position 1, VT with rank position 2, etc. To use the permutation Procrustes method, we need to express the ranking vector as a matrix; to do this we define an $n \\times n$ rank-differential matrix which is a symmetric reordering of the fundamental rank-differential matrix $\\hat{\\mathbf{R}} \\in \\mathbb{R}^{n \\times n}$,"
   ]
  },
  {
   "cell_type": "markdown",
   "metadata": {},
   "source": [
    "\\begin{equation}\n",
    "    \\hat{\\mathbf{R}}_{n \\times n} =\n",
    "    \\begin{bmatrix}\n",
    "        0 & 1 & 2 & \\cdots & n-1 \\\\\n",
    "        & 0 & 1 & \\cdots & n-2 \\\\\n",
    "        &   &\\ddots &\\ddots & \\vdots \\\\\n",
    "        &   &   & \\ddots & 1 \\\\\n",
    "        &   &   &        & 0\n",
    "    \\end{bmatrix}\n",
    "\\end{equation}"
   ]
  },
  {
   "cell_type": "markdown",
   "metadata": {},
   "source": [
    "The goal is then to find the optimal permutation, $\\mathbf{Q}$, that maximizes the similarity between the rank-differential matrix, $\\mathbf{R}$, and the score-differential matrix, $\\mathbf{D}$. This is a two-sided permutation Procrustes problem with one transformation,\n",
    "\\begin{equation}\n",
    "    \\min_{\\mathbf{Q}} {\\left\\lVert \\mathbf{Q}^{\\top} \\mathbf{D} \\mathbf{Q} - \\hat{\\mathbf{R}}\n",
    "        \\right\\rVert}_{F}^2\n",
    "\\end{equation}"
   ]
  },
  {
   "cell_type": "markdown",
   "metadata": {},
   "source": [
    "In order to compute the ranking vector, we need the fundamental rank-differential matrix $\\hat{\\mathbf{R}}_{n \\times n}$. So we build a function to compute the rank differential matrix based on the given data,"
   ]
  },
  {
   "cell_type": "code",
   "execution_count": null,
   "metadata": {},
   "outputs": [],
   "source": [
    "# only run this cell if you need to install the dependices\n",
    "!pip install git+https://github.com/theochem/procrustes.git@master"
   ]
  },
  {
   "cell_type": "code",
   "execution_count": 1,
   "metadata": {},
   "outputs": [],
   "source": [
    "# import required libraries\n",
    "import numpy as np\n",
    "from procrustes import permutation_2sided\n",
    "\n",
    "def rank_differential(D):\n",
    "    r\"\"\" Compute the rank differential based on the shape of input data.\"\"\"\n",
    "\n",
    "    N = np.shape(D)[0]\n",
    "    R_hat = np.zeros((N, N))\n",
    "    # Compute the upper triangle part of R_hat\n",
    "    a = []\n",
    "    for each in range(N):\n",
    "        # print(each)\n",
    "        a.extend(range(0, N-each))\n",
    "     # Get the R_hat\n",
    "    R_hat[np.triu_indices_from(R_hat, 0)] = a\n",
    "    \n",
    "    return R_hat"
   ]
  },
  {
   "cell_type": "markdown",
   "metadata": {},
   "source": [
    "Now we can solve the problem by two-sided permutation Procrustes,"
   ]
  },
  {
   "cell_type": "code",
   "execution_count": 2,
   "metadata": {},
   "outputs": [],
   "source": [
    "def ranking(D, perm_mode='normal1'):\n",
    "    r\"\"\"Compute the ranking vector.\"\"\"\n",
    "\n",
    "    #_check_input(D)\n",
    "    R_hat = rank_differential(D)\n",
    "    res = permutation_2sided(D, R_hat,\n",
    "                            remove_zero_col=False,\n",
    "                            remove_zero_row=False,\n",
    "                            mode=perm_mode)\n",
    "    # Compute the rank\n",
    "    _, rank = np.where(res[\"t\"] == 1)\n",
    "    rank += 1\n",
    "\n",
    "    return rank"
   ]
  },
  {
   "cell_type": "code",
   "execution_count": 3,
   "metadata": {},
   "outputs": [],
   "source": [
    "# the initial data\n",
    "D = np.array([[ 0, 0, 0 ,  0,  0 ],\n",
    "              [45, 0, 18,  8,  20], \n",
    "              [ 3, 0, 0 ,  2,  0 ],\n",
    "              [31, 0, 0 ,  0,  0 ],\n",
    "              [45, 0, 27, 38,  0 ]])"
   ]
  },
  {
   "cell_type": "code",
   "execution_count": 4,
   "metadata": {},
   "outputs": [
    {
     "name": "stdout",
     "output_type": "stream",
     "text": [
      "Maximum iteration reached! Change=4.783354588670838e-07\n"
     ]
    }
   ],
   "source": [
    "# compute the rank\n",
    "rank = ranking(D)"
   ]
  },
  {
   "cell_type": "code",
   "execution_count": 5,
   "metadata": {},
   "outputs": [
    {
     "name": "stdout",
     "output_type": "stream",
     "text": [
      "[5 2 4 3 1]\n"
     ]
    }
   ],
   "source": [
    "print(rank)"
   ]
  },
  {
   "cell_type": "markdown",
   "metadata": {},
   "source": [
    "Why we need to add all the rank values by 1? Because Python's list index starts with 0, but we often index starting from 1 for physical objects."
   ]
  }
 ],
 "metadata": {
  "kernelspec": {
   "display_name": "Python 3",
   "language": "python",
   "name": "python3"
  },
  "language_info": {
   "codemirror_mode": {
    "name": "ipython",
    "version": 3
   },
   "file_extension": ".py",
   "mimetype": "text/x-python",
   "name": "python",
   "nbconvert_exporter": "python",
   "pygments_lexer": "ipython3",
   "version": "3.8.3"
  }
 },
 "nbformat": 4,
 "nbformat_minor": 4
}
