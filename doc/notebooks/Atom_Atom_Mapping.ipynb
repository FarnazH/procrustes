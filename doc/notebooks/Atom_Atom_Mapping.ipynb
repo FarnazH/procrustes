{
 "cells": [
  {
   "cell_type": "markdown",
   "metadata": {},
   "source": [
    "# Atom-Atom Mapping"
   ]
  },
  {
   "cell_type": "markdown",
   "metadata": {},
   "source": [
    "Atom-atom mapping can help chemists and biologist to get a better understanding of the reaction mechanisms and provide clues for lead compound optimization for medicinal chemists. In this example, we are going to use two sided permutation Procrustes, which has been implemented `procrustes.permutation_2sided`."
   ]
  },
  {
   "cell_type": "markdown",
   "metadata": {},
   "source": [
    "The example we are going to use is shown below, which is the atom-atom mapping between 3,3‐dimethylpent‐1‐en‐4‐yne and but‐1‐en‐3‐yne. For clarity, we denote but‐1‐en‐3‐yne molecule **A** and 3,3‐dimethylpent‐1‐en‐4‐yne molecule **B**. What would be most reasonable mapping? If it is not mapping the double bounds and triple bonds respectively, it is not a good matching based on our chemical knowledge."
   ]
  },
  {
   "cell_type": "markdown",
   "metadata": {},
   "source": [
    "![Fig. 1 Two organic compounds for atom-atom mapping](../examples/atom_mapping/before_mapping.png \"Fig. 1 Two organic compounds for atom-atom mapping\")"
   ]
  },
  {
   "cell_type": "markdown",
   "metadata": {},
   "source": [
    "In order to figure the mapping relationship, one needs to represent the molecules in a matrix format. We will save the nuclear charge as the diagonal elements and the bond orders for off-diagonal ones, which has been depicted below. In this way, the matrix $A \\in \\mathbb{R}^{7\\times7}$ and the matrix $B \\in \\mathbb{R}^{4 \\times4}$ are built, both of which are symmetric. The atoms are also labeled for later discussion."
   ]
  },
  {
   "cell_type": "markdown",
   "metadata": {},
   "source": [
    "![Fig. 2 Graphical representation for two molecules.](../examples/atom_mapping/data.png)"
   ]
  },
  {
   "cell_type": "code",
   "execution_count": null,
   "metadata": {},
   "outputs": [],
   "source": [
    "# only run this cell if you need to install the dependices\n",
    "!pip install git+https://github.com/theochem/procrustes.git@master"
   ]
  },
  {
   "cell_type": "code",
   "execution_count": 1,
   "metadata": {},
   "outputs": [],
   "source": [
    "# import required libraries\n",
    "import numpy as np\n",
    "from procrustes import permutation_2sided"
   ]
  },
  {
   "cell_type": "markdown",
   "metadata": {},
   "source": [
    "Now we have two matrices $A$ and $B$ for two molecules,"
   ]
  },
  {
   "cell_type": "code",
   "execution_count": 2,
   "metadata": {},
   "outputs": [],
   "source": [
    "# Define molecule A, but‐1‐en‐3‐yne\n",
    "A = np.array([[6, 3, 0, 0],\n",
    "              [3, 6, 1, 0],\n",
    "              [0, 1, 6, 2],\n",
    "              [0, 0, 2, 6]])"
   ]
  },
  {
   "cell_type": "code",
   "execution_count": 3,
   "metadata": {},
   "outputs": [],
   "source": [
    "# Define molecule B, 3,3‐dimethylpent‐1‐en‐4‐yne\n",
    "B = np.array([[6, 3, 0, 0, 0, 0, 0],\n",
    "              [3, 6, 1, 0, 0, 0, 0],\n",
    "              [0, 1, 6, 1, 0, 1, 1],\n",
    "              [0, 0, 1, 6, 2, 0, 0],\n",
    "              [0, 0, 0, 2, 6, 0, 0],\n",
    "              [0, 0, 1, 0, 0, 6, 0],\n",
    "              [0, 0, 1, 0, 0, 0, 6]])"
   ]
  },
  {
   "cell_type": "markdown",
   "metadata": {},
   "source": [
    "Now we have both matrix $A$ and $B$ defined and we can use two-sided permutation procrustes to find the optimal transformation operation."
   ]
  },
  {
   "cell_type": "code",
   "execution_count": 4,
   "metadata": {},
   "outputs": [],
   "source": [
    "res = permutation_2sided(A, B, \n",
    "                         transform_mode='single',\n",
    "                         remove_zero_col=False, \n",
    "                         remove_zero_row=False,\n",
    "                         scale=False)"
   ]
  },
  {
   "cell_type": "code",
   "execution_count": 5,
   "metadata": {},
   "outputs": [
    {
     "data": {
      "text/plain": [
       "array([[1., 0., 0., 0., 0., 0., 0.],\n",
       "       [0., 1., 0., 0., 0., 0., 0.],\n",
       "       [0., 0., 0., 1., 0., 0., 0.],\n",
       "       [0., 0., 0., 0., 1., 0., 0.],\n",
       "       [0., 0., 1., 0., 0., 0., 0.],\n",
       "       [0., 0., 0., 0., 0., 1., 0.],\n",
       "       [0., 0., 0., 0., 0., 0., 1.]])"
      ]
     },
     "execution_count": 5,
     "metadata": {},
     "output_type": "execute_result"
    }
   ],
   "source": [
    "# the permutation matrix\n",
    "res[\"t\"]"
   ]
  },
  {
   "cell_type": "markdown",
   "metadata": {},
   "source": [
    "The new matrix of molecule A can be obtained with the permutation operation."
   ]
  },
  {
   "cell_type": "code",
   "execution_count": 6,
   "metadata": {},
   "outputs": [],
   "source": [
    "# Compute the transformed molecule A\n",
    "new_A = np.dot(res[\"t\"].T, np.dot(res[\"new_a\"], res[\"t\"])).astype(int)"
   ]
  },
  {
   "cell_type": "code",
   "execution_count": 7,
   "metadata": {},
   "outputs": [
    {
     "data": {
      "text/plain": [
       "array([[6, 3, 0, 0, 0, 0, 0],\n",
       "       [3, 6, 0, 1, 0, 0, 0],\n",
       "       [0, 0, 0, 0, 0, 0, 0],\n",
       "       [0, 1, 0, 6, 2, 0, 0],\n",
       "       [0, 0, 0, 2, 6, 0, 0],\n",
       "       [0, 0, 0, 0, 0, 0, 0],\n",
       "       [0, 0, 0, 0, 0, 0, 0]])"
      ]
     },
     "execution_count": 7,
     "metadata": {},
     "output_type": "execute_result"
    }
   ],
   "source": [
    "new_A"
   ]
  },
  {
   "cell_type": "code",
   "execution_count": 8,
   "metadata": {},
   "outputs": [
    {
     "data": {
      "text/plain": [
       "array([[6, 3, 0, 0, 0, 0, 0],\n",
       "       [3, 6, 1, 0, 0, 0, 0],\n",
       "       [0, 1, 6, 1, 0, 1, 1],\n",
       "       [0, 0, 1, 6, 2, 0, 0],\n",
       "       [0, 0, 0, 2, 6, 0, 0],\n",
       "       [0, 0, 1, 0, 0, 6, 0],\n",
       "       [0, 0, 1, 0, 0, 0, 6]])"
      ]
     },
     "execution_count": 8,
     "metadata": {},
     "output_type": "execute_result"
    }
   ],
   "source": [
    "res[\"new_b\"]"
   ]
  },
  {
   "cell_type": "markdown",
   "metadata": {},
   "source": [
    "The computed result is shown in the figure below, generating ideal matching of the\n",
    "double and triple carbon-carbon bonds. Because molecule $B$ has more atoms than\n",
    "molecule $A$, $A$ is padded with zeros in order to perform the two-sided permutation\n",
    "Procrustes calculation. The new matrix representation of $A$ suggests that atom 3\n",
    "is empty since the third row and third column of $A$ are zero. That is, a virtual atom\n",
    "3 was added to molecule $A$ to align with atom 3 in molecule $B$. Similarly, atoms 6\n",
    "and 7 in molecule $B$ do not have meaningful matches in $A$, and are mapped to two\n",
    "virtual atoms, atom 6 and 7 in molecule $A$. "
   ]
  },
  {
   "cell_type": "markdown",
   "metadata": {},
   "source": [
    "<figure>\n",
    "   <img src=\"../examples/atom_mapping/atom_mapping1.png\" alt=\"You can use Markdown to add images to Jupyter Notebook files, such as this image of the Markdown logo. Source: Full Stack Python.\"></a>\n",
    "   <figcaption> \n",
    "   The left image shows the adjacency matrix of ”newly” created molecule $A$ and atom-atom mapping relationship between molecule $A$ and molecule $B$. The adjacency matrix of molecule $A$ with matrix index shown in magenta and newly padded zeros circled in red. \n",
    "The right part displays atom-atom matching of molecule $A$ and $B$. The corresponding matching is denoted by dashed red lines linking the numbered atoms. The solid circles indicate the virtual atoms, which\n",
    "is created to make the perfect mapping by two-sided permutation Procrustes with one transformation.\n",
    "   </figcaption>\n",
    "</figure>"
   ]
  },
  {
   "cell_type": "markdown",
   "metadata": {},
   "source": [
    "Now the alignment makes sense for our chemical intuition."
   ]
  }
 ],
 "metadata": {
  "kernelspec": {
   "display_name": "Python 3",
   "language": "python",
   "name": "python3"
  },
  "language_info": {
   "codemirror_mode": {
    "name": "ipython",
    "version": 3
   },
   "file_extension": ".py",
   "mimetype": "text/x-python",
   "name": "python",
   "nbconvert_exporter": "python",
   "pygments_lexer": "ipython3",
   "version": "3.8.3"
  }
 },
 "nbformat": 4,
 "nbformat_minor": 4
}
